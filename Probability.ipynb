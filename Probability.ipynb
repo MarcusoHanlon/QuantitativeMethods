{
 "cells": [
  {
   "cell_type": "markdown",
   "metadata": {},
   "source": [
    "# Probability\n",
    "http://nbviewer.jupyter.org/url/norvig.com/ipython/Probability.ipynb?utm_content=buffer51db6&utm_medium=social&utm_source=twitter.com&utm_campaign=buffer"
   ]
  },
  {
   "cell_type": "code",
   "execution_count": 2,
   "metadata": {
    "collapsed": true
   },
   "outputs": [],
   "source": [
    "from fractions import Fraction\n",
    "\n",
    "def P(event, space): \n",
    "    \"The probability of an event, given a sample space of equiprobable outcomes.\"\n",
    "    return Fraction(len(event & space), \n",
    "                    len(space))"
   ]
  },
  {
   "cell_type": "markdown",
   "metadata": {},
   "source": [
    "#### Probabaility of getting an even die roll"
   ]
  },
  {
   "cell_type": "code",
   "execution_count": 3,
   "metadata": {
    "collapsed": false
   },
   "outputs": [
    {
     "data": {
      "text/plain": [
       "Fraction(1, 2)"
      ]
     },
     "execution_count": 3,
     "metadata": {},
     "output_type": "execute_result"
    }
   ],
   "source": [
    "D    = {1, 2, 3, 4, 5, 6}\n",
    "even = {   2,    4,    6}\n",
    "\n",
    "P(even, D)"
   ]
  },
  {
   "cell_type": "markdown",
   "metadata": {},
   "source": [
    "# Have X Choose y"
   ]
  },
  {
   "cell_type": "code",
   "execution_count": 43,
   "metadata": {
    "collapsed": true
   },
   "outputs": [],
   "source": [
    "from math import factorial\n",
    "\n",
    "def choose(n, c):\n",
    "    \"Number of ways to choose c items from a list of n items.\"\n",
    "    return factorial(n) // (factorial(n - c) * factorial(c))"
   ]
  },
  {
   "cell_type": "markdown",
   "metadata": {},
   "source": [
    "## The Bernouli Urn Problem"
   ]
  },
  {
   "cell_type": "markdown",
   "metadata": {},
   "source": [
    "\n",
    "\n",
    "An urn contains 23 balls: 8 white, 6 blue, and 9 red. We select six balls at random (each possible selection is equally likely).  \n",
    "What is the probability of each of these possible outcomes:  \n",
    "\n",
    "1) all balls are red  \n",
    "2) 3 are blue, 2 are white, and 1 is red  \n",
    "3) exactly 4 balls are white    \n",
    "\n",
    "##### Step1, build your urn\n"
   ]
  },
  {
   "cell_type": "code",
   "execution_count": 18,
   "metadata": {
    "collapsed": false
   },
   "outputs": [
    {
     "data": {
      "text/plain": [
       "{'B1',\n",
       " 'B2',\n",
       " 'B3',\n",
       " 'B4',\n",
       " 'B5',\n",
       " 'B6',\n",
       " 'R1',\n",
       " 'R2',\n",
       " 'R3',\n",
       " 'R4',\n",
       " 'R5',\n",
       " 'R6',\n",
       " 'R7',\n",
       " 'R8',\n",
       " 'R9',\n",
       " 'W1',\n",
       " 'W2',\n",
       " 'W3',\n",
       " 'W4',\n",
       " 'W5',\n",
       " 'W6',\n",
       " 'W7',\n",
       " 'W8'}"
      ]
     },
     "execution_count": 18,
     "metadata": {},
     "output_type": "execute_result"
    }
   ],
   "source": [
    "def cross(A, B):\n",
    "    \"The set of ways of concatenating one item from collection A with one from B.\"\n",
    "    return {a + b \n",
    "            for a in A for b in B}\n",
    "\n",
    "urn = cross('W', '12345678') | cross('B', '123456') | cross('R', '123456789') \n",
    "\n",
    "urn"
   ]
  },
  {
   "cell_type": "markdown",
   "metadata": {},
   "source": [
    "### What are all the combinations of 6 balls??"
   ]
  },
  {
   "cell_type": "code",
   "execution_count": 13,
   "metadata": {
    "collapsed": false
   },
   "outputs": [
    {
     "data": {
      "text/plain": [
       "100947"
      ]
     },
     "execution_count": 13,
     "metadata": {},
     "output_type": "execute_result"
    }
   ],
   "source": [
    "import itertools\n",
    "\n",
    "def combos(items, n):\n",
    "    \"All combinations of n items; each combo as a concatenated str.\"\n",
    "    return {' '.join(combo) \n",
    "            for combo in itertools.combinations(items, n)}\n",
    "\n",
    "U6 = combos(urn, 6)\n",
    "\n",
    "len(U6)"
   ]
  },
  {
   "cell_type": "markdown",
   "metadata": {},
   "source": [
    "### 1) all balls are red"
   ]
  },
  {
   "cell_type": "code",
   "execution_count": 19,
   "metadata": {
    "collapsed": false
   },
   "outputs": [],
   "source": [
    "red6 = {s for s in U6 if s.count('R') == 6}"
   ]
  },
  {
   "cell_type": "code",
   "execution_count": 21,
   "metadata": {
    "collapsed": false
   },
   "outputs": [
    {
     "data": {
      "text/plain": [
       "84"
      ]
     },
     "execution_count": 21,
     "metadata": {},
     "output_type": "execute_result"
    }
   ],
   "source": [
    "len(red6)"
   ]
  },
  {
   "cell_type": "code",
   "execution_count": 22,
   "metadata": {
    "collapsed": false
   },
   "outputs": [
    {
     "data": {
      "text/plain": [
       "Fraction(4, 4807)"
      ]
     },
     "execution_count": 22,
     "metadata": {},
     "output_type": "execute_result"
    }
   ],
   "source": [
    "P(red6, U6)"
   ]
  },
  {
   "cell_type": "markdown",
   "metadata": {},
   "source": [
    "### 2) 3 are blue, 2 are white, and 1 is red"
   ]
  },
  {
   "cell_type": "code",
   "execution_count": 24,
   "metadata": {
    "collapsed": false
   },
   "outputs": [
    {
     "data": {
      "text/plain": [
       "Fraction(240, 4807)"
      ]
     },
     "execution_count": 24,
     "metadata": {},
     "output_type": "execute_result"
    }
   ],
   "source": [
    "b3w2r1 = {s for s in U6 if\n",
    "          s.count('B') == 3 and s.count('W') == 2 and s.count('R') == 1}\n",
    "\n",
    "P(b3w2r1, U6)"
   ]
  },
  {
   "cell_type": "markdown",
   "metadata": {},
   "source": [
    "### 3) exactly 4 balls are white"
   ]
  },
  {
   "cell_type": "code",
   "execution_count": 28,
   "metadata": {
    "collapsed": false
   },
   "outputs": [
    {
     "data": {
      "text/plain": [
       "Fraction(350, 4807)"
      ]
     },
     "execution_count": 28,
     "metadata": {},
     "output_type": "execute_result"
    }
   ],
   "source": [
    "w2 = {s for s in U6 if\n",
    "          s.count('W') == 4 }\n",
    "P(w2, U6)"
   ]
  },
  {
   "cell_type": "markdown",
   "metadata": {},
   "source": [
    "# More Elegant P"
   ]
  },
  {
   "cell_type": "code",
   "execution_count": 29,
   "metadata": {
    "collapsed": true
   },
   "outputs": [],
   "source": [
    "def even(n): return n % 2 == 0"
   ]
  },
  {
   "cell_type": "code",
   "execution_count": 30,
   "metadata": {
    "collapsed": false
   },
   "outputs": [
    {
     "data": {
      "text/plain": [
       "True"
      ]
     },
     "execution_count": 30,
     "metadata": {},
     "output_type": "execute_result"
    }
   ],
   "source": [
    "even(10)"
   ]
  },
  {
   "cell_type": "code",
   "execution_count": 31,
   "metadata": {
    "collapsed": true
   },
   "outputs": [],
   "source": [
    "def P(event, space): \n",
    "    \"\"\"The probability of an event, given a sample space of equiprobable outcomes.\n",
    "    event can be either a set of outcomes, or a predicate (true for outcomes in the event).\"\"\"\n",
    "    if is_predicate(event):\n",
    "        event = such_that(event, space)\n",
    "    return Fraction(len(event & space), len(space))\n",
    "\n",
    "is_predicate = callable\n",
    "\n",
    "def such_that(predicate, collection): \n",
    "    \"The subset of elements in the collection for which the predicate is true.\"\n",
    "    return {e for e in collection if predicate(e)}"
   ]
  },
  {
   "cell_type": "code",
   "execution_count": 32,
   "metadata": {
    "collapsed": false
   },
   "outputs": [
    {
     "data": {
      "text/plain": [
       "{2, 4, 6}"
      ]
     },
     "execution_count": 32,
     "metadata": {},
     "output_type": "execute_result"
    }
   ],
   "source": [
    "such_that(even, D)"
   ]
  },
  {
   "cell_type": "code",
   "execution_count": 34,
   "metadata": {
    "collapsed": false
   },
   "outputs": [
    {
     "data": {
      "text/plain": [
       "Fraction(1, 2)"
      ]
     },
     "execution_count": 34,
     "metadata": {},
     "output_type": "execute_result"
    }
   ],
   "source": [
    "P(even,D)"
   ]
  },
  {
   "cell_type": "code",
   "execution_count": 35,
   "metadata": {
    "collapsed": false
   },
   "outputs": [
    {
     "data": {
      "text/plain": [
       "Fraction(1, 2)"
      ]
     },
     "execution_count": 35,
     "metadata": {},
     "output_type": "execute_result"
    }
   ],
   "source": [
    "D12 = {1, 2, 3, 4, 5, 6, 7, 8, 9, 10, 11, 12}\n",
    "P(even,D12)"
   ]
  },
  {
   "cell_type": "markdown",
   "metadata": {},
   "source": [
    "# Lets play Cards"
   ]
  },
  {
   "cell_type": "code",
   "execution_count": 36,
   "metadata": {
    "collapsed": false
   },
   "outputs": [
    {
     "data": {
      "text/plain": [
       "52"
      ]
     },
     "execution_count": 36,
     "metadata": {},
     "output_type": "execute_result"
    }
   ],
   "source": [
    "suits = 'SHDC'\n",
    "ranks = 'A23456789TJQK'\n",
    "deck  = cross(ranks, suits)\n",
    "len(deck)"
   ]
  },
  {
   "cell_type": "code",
   "execution_count": 49,
   "metadata": {
    "collapsed": false
   },
   "outputs": [
    {
     "data": {
      "text/plain": [
       "['JD 9S AS JS QC',\n",
       " '7H TH JS 2H 8C',\n",
       " 'TS JD 9S AC QD',\n",
       " 'TC AD AH 4C 8H',\n",
       " '9H 7D 4H KC 8C']"
      ]
     },
     "execution_count": 49,
     "metadata": {},
     "output_type": "execute_result"
    }
   ],
   "source": [
    "import random\n",
    "Hands = combos(deck, 5)\n",
    "\n",
    "#assert len(Hands) == choose(52, 5)\n",
    "\n",
    "random.sample(Hands, 5)"
   ]
  },
  {
   "cell_type": "code",
   "execution_count": 48,
   "metadata": {
    "collapsed": false
   },
   "outputs": [
    {
     "data": {
      "text/plain": [
       "2598960L"
      ]
     },
     "execution_count": 48,
     "metadata": {},
     "output_type": "execute_result"
    }
   ],
   "source": [
    "choose(52,5)"
   ]
  },
  {
   "cell_type": "markdown",
   "metadata": {},
   "source": [
    "### Probability of 4 of a kind"
   ]
  },
  {
   "cell_type": "code",
   "execution_count": 51,
   "metadata": {
    "collapsed": false
   },
   "outputs": [
    {
     "data": {
      "text/plain": [
       "Fraction(1, 4165)"
      ]
     },
     "execution_count": 51,
     "metadata": {},
     "output_type": "execute_result"
    }
   ],
   "source": [
    "def four_kind(hand):\n",
    "    return any(hand.count(rank) == 4 for rank in ranks)\n",
    "\n",
    "P(four_kind, Hands)"
   ]
  },
  {
   "cell_type": "code",
   "execution_count": 53,
   "metadata": {
    "collapsed": false
   },
   "outputs": [
    {
     "data": {
      "text/plain": [
       "Fraction(33, 16660)"
      ]
     },
     "execution_count": 53,
     "metadata": {},
     "output_type": "execute_result"
    }
   ],
   "source": [
    "def flush(hand):\n",
    "    return any(hand.count(suit) == 5 for suit in suits)\n",
    "\n",
    "P(flush, Hands)"
   ]
  },
  {
   "cell_type": "code",
   "execution_count": 64,
   "metadata": {
    "collapsed": false
   },
   "outputs": [
    {
     "name": "stdout",
     "output_type": "stream",
     "text": [
      "5S 5H 5D 5C 8S\n",
      "5S 5H 5D 5C 8C\n",
      "5S 5H 5D 5C 8D\n",
      "5S 5H 5D 5C 8H\n",
      "7H 6C 6D 6H 6S\n",
      "2S 2D 2C 2H QD\n",
      "2S 2D 2C 2H QC\n",
      "3S AC AD AH AS\n",
      "JD JH 7D JC JS\n",
      "3D 8H 8C 8D 8S\n",
      "4H 8H 8C 8D 8S\n",
      "JD JH JC TC JS\n",
      "5S AC AD AH AS\n",
      "5D QS QH QC QD\n",
      "AD 6C 6D 6H 6S\n",
      "QS QH 8H QC QD\n",
      "JD JH 7C JC JS\n",
      "2C 6C 6D 6H 6S\n",
      "5D 4S 4H 4D 4C\n",
      "AC AD AH AS 6H\n",
      "AS 6C 6D 6H 6S\n",
      "6C 6D 6H QC 6S\n",
      "QS QH 6H QC QD\n",
      "9H 9C 9D 9S 8S\n",
      "9H 9C 9D 9S 8D\n",
      "9H 9C 9D 9S 8C\n",
      "9H 9C 9D 9S 8H\n",
      "3S 3H 3C 3D 9D\n",
      "AC AD AH AS 8H\n",
      "JD JH JC JS QC\n",
      "JH 6C 6D 6H 6S\n",
      "5S 5H 5D 5C 4S\n",
      "5S 5H 5D 5C 4H\n",
      "5S 5H 5D 5C 4D\n",
      "5S 5H 5D 5C 4C\n",
      "6C 6D 6H 8D 6S\n",
      "2H KC KD KH KS\n",
      "3C 8H 8C 8D 8S\n",
      "5C 7D 7C 7H 7S\n",
      "9H 9C 9D 7H 9S\n",
      "3H AC AD AH AS\n",
      "3H 6C 6D 6H 6S\n",
      "5H 2S 2D 2C 2H\n",
      "TS 4S 4H 4D 4C\n",
      "TS TH TC AH TD\n",
      "TH AC AD AH AS\n",
      "2S 2D 2C 2H 6H\n",
      "5S 2S 2D 2C 2H\n",
      "7D 8H 8C 8D 8S\n",
      "TS JD JH JC JS\n",
      "3S KC KD KH KS\n",
      "7S 6C 6D 6H 6S\n",
      "7D 7C 7H 7S 4S\n",
      "9H 9C 9D 9S 4C\n",
      "9H 9C 9D 9S 4D\n",
      "9H 9C 9D 9S 4S\n",
      "AC AD 2S AH AS\n",
      "9D 2S 2D 2C 2H\n",
      "QS QH QC 6S QD\n",
      "4S QH 4H 4D 4C\n",
      "AC 6C 6D 6H 6S\n",
      "AC 4S 4H 4D 4C\n",
      "9H 7C 9C 9D 9S\n",
      "3S 3H 5H 3C 3D\n",
      "4C 6C 6D 6H 6S\n",
      "JD JH 3D JC JS\n",
      "QS TH QH QC QD\n",
      "4S 4H 4D 4C KH\n",
      "9H 6C 6D 6H 6S\n",
      "AC AD AH AS QH\n",
      "JD JH 9D JC JS\n",
      "QS QH 6C QC QD\n",
      "KC KD 6H KH KS\n",
      "3S 6C 6D 6H 6S\n",
      "4S 4H 4D 4C 6S\n",
      "4S 4H 4D 4C 6D\n",
      "TS TH JC TC TD\n",
      "5C 2S 2D 2C 2H\n",
      "AS 8H 8C 8D 8S\n",
      "3S 3H 3C 3D KS\n",
      "3S 3H 3C 3D KC\n",
      "3S 3H 3C 3D KD\n",
      "3S 3H 3C 3D KH\n",
      "QS 7H QH QC QD\n",
      "7D 7C 7H 7S QH\n",
      "TS TH TC TD 8C\n",
      "QS QH 2C QC QD\n",
      "9D AC AD AH AS\n",
      "JD JH 9S JC JS\n",
      "5C QS QH QC QD\n",
      "2S 2D 2C JS 2H\n",
      "AC AD AH AS KD\n",
      "AC AD AH AS KC\n",
      "TS KC KD KH KS\n",
      "3D AC AD AH AS\n",
      "4D 8H 8C 8D 8S\n",
      "JD JH JC 4S JS\n",
      "2H 6C 6D 6H 6S\n",
      "9H 9C 9D 9S KC\n",
      "5S JD JH JC JS\n",
      "QS AD QH QC QD\n",
      "2S 4S 4H 4D 4C\n",
      "QS QH QC QD 8S\n",
      "TS TH 9S TC TD\n",
      "7H AC AD AH AS\n",
      "QS 2S 2D 2C 2H\n",
      "KC 6C 6D 6H 6S\n",
      "5S 9H 9C 9D 9S\n",
      "7D 7C 7H 7S AC\n",
      "9H 9C 9D 9S KS\n",
      "9H 9C 9D 9S KH\n",
      "TC KC KD KH KS\n",
      "2S 2D 2C 2H 6C\n",
      "4S 4H TD 4D 4C\n",
      "4S 4H 4D 4C 8D\n",
      "TS 5D TH TC TD\n",
      "JH AC AD AH AS\n",
      "2H 8H 8C 8D 8S\n",
      "AD 2S 2D 2C 2H\n",
      "KC 6C KD KH KS\n",
      "9H 9C 9D QS 9S\n",
      "QS KC KD KH KS\n",
      "7D 7C 7H 7S 2S\n",
      "7D 7C 7H 7S 2H\n",
      "7D 7C 7H 7S 2D\n",
      "7D 7C 7H 7S 2C\n",
      "5D 7D 7C 7H 7S\n",
      "AC 2S 2D 2C 2H\n",
      "5S 5H 5D 5C 9H\n",
      "5S 5H 5D 5C 9D\n",
      "5S 5H 5D 5C 9C\n",
      "2S 2D 2C 2H 4C\n",
      "QS 2S QH QC QD\n",
      "9H 7D 7C 7H 7S\n",
      "JD JH JC 4H JS\n",
      "5S 5H 5D 5C JC\n",
      "5S 5H 5D 5C JS\n",
      "3S TS TH TC TD\n",
      "2C KC KD KH KS\n",
      "AC AD AH AS 8D\n",
      "JD JH TH JC JS\n",
      "JD JH JC JS QD\n",
      "3S 5S 3H 3C 3D\n",
      "4S 4H 4D 4C 8S\n",
      "4S 4H 4D 4C 8H\n",
      "9C QS QH QC QD\n",
      "TS AC AD AH AS\n",
      "3S 2S 2D 2C 2H\n",
      "3S JD JH JC JS\n",
      "TS TH TC TD QC\n",
      "TS TH TC TD QD\n",
      "TS TH TC 2C TD\n",
      "QH 8H 8C 8D 8S\n",
      "7D 7C 7H 7S 6H\n",
      "7D 7C 7H 7S 6S\n",
      "JD JH 7S JC JS\n",
      "5D KC KD KH KS\n",
      "JD JH QS JC JS\n",
      "8H 6H 8C 8D 8S\n",
      "3S 3H 3C 3D 2S\n",
      "3S 3H 3C 3D 2H\n",
      "3S 3H 3C 3D 2D\n",
      "3S 3H 3C 3D 2C\n",
      "JD JH JC JS KS\n",
      "JD JH JC JS KC\n",
      "JD JH JC JS KD\n",
      "8H KD 8C 8D 8S\n",
      "5H QS QH QC QD\n",
      "9S 6C 6D 6H 6S\n",
      "7H KC KD KH KS\n",
      "AH KC KD KH KS\n",
      "2S 2D 2C 2H 6D\n",
      "2S 2D 2C 2H 6S\n",
      "4S 6C 6D 6H 6S\n",
      "4S 4H 4D 4C QD\n",
      "TS TH TC TD 8H\n",
      "TS TH TC TD 8S\n",
      "QS 7S QH QC QD\n",
      "3H 8H 8C 8D 8S\n",
      "2S 4S 2D 2C 2H\n",
      "9C 6C 6D 6H 6S\n",
      "2D 8H 8C 8D 8S\n",
      "TS 9D TH TC TD\n",
      "3S 3H JH 3C 3D\n",
      "JD AC AD AH AS\n",
      "3S 3H 3C 3D 6H\n",
      "3S 3H 3C 3D 6C\n",
      "3S 3H 3C 3D 6D\n",
      "3S 3H 3C 3D 6S\n",
      "TS 3C TH TC TD\n",
      "3S 4S 4H 4D 4C\n",
      "5C 8H 8C 8D 8S\n",
      "2S 2D 4H 2C 2H\n",
      "5S TS TH TC TD\n",
      "3S 3H 3C 5C 3D\n",
      "JD JH 9H JC JS\n",
      "2S 2D QH 2C 2H\n",
      "5S QS QH QC QD\n",
      "5S JH 5H 5D 5C\n",
      "9H 9C 9D 9S 6S\n",
      "9H 9C 9D 9S 6H\n",
      "9H 9C 9D 9S 6C\n",
      "QS QH 2H QC QD\n",
      "TC 4S 4H 4D 4C\n",
      "7C 6C 6D 6H 6S\n",
      "AC AD AH AS KH\n",
      "AC AD AH AS KS\n",
      "9H 9C 9D TH 9S\n",
      "3H QS QH QC QD\n",
      "4S 4H 4D 4C KS\n",
      "TS TH TC AC TD\n",
      "3H 7D 7C 7H 7S\n",
      "8H 6C 6D 6H 6S\n",
      "TS 3H TH TC TD\n",
      "4H KC KD KH KS\n",
      "7S 4S 4H 4D 4C\n",
      "JD JH JC AS JS\n",
      "3S 8H 8C 8D 8S\n",
      "TS TH TC AD TD\n",
      "7C QS QH QC QD\n",
      "4S KC KD KH KS\n",
      "3D QS QH QC QD\n",
      "5S 8H 8C 8D 8S\n",
      "JD 2S 2D 2C 2H\n",
      "JD JH JC AH JS\n",
      "KC KD 8C KH KS\n",
      "9H 2S 2D 2C 2H\n",
      "QS QH 4H QC QD\n",
      "TS TH TC 4H TD\n",
      "7D 7C 7H 7S 6C\n",
      "7D 7C 7H 7S 6D\n",
      "7D 7C 7H 7S KD\n",
      "7D 7C 7H 7S KH\n",
      "4S 4H 4D JS 4C\n",
      "2S 2D 2C 4D 2H\n",
      "AH 8H 8C 8D 8S\n",
      "4S 4H 4D 4C QC\n",
      "4S 4H 4D 4C 6H\n",
      "KC KD KH 8D KS\n",
      "7S 8H 8C 8D 8S\n",
      "5S 5H 5D 5C TH\n",
      "5S 5H 5D 5C TD\n",
      "5S 5H 5D 5C TC\n",
      "QS AS QH QC QD\n",
      "AC AD AH AS 4D\n",
      "3C AC AD AH AS\n",
      "3S 5S 5H 5D 5C\n",
      "QS QH KS QC QD\n",
      "QS 4S QH QC QD\n",
      "6C 6D KD 6H 6S\n",
      "AC AD AH AS 6C\n",
      "AC AD AH AS 6D\n",
      "9D KC KD KH KS\n",
      "5S 5H 5D 5C 9S\n",
      "3S 3H 3C 3D 7S\n",
      "4S 2D 4H 4D 4C\n",
      "TS TH TC 4S TD\n",
      "9H AC AD AH AS\n",
      "JH KC KD KH KS\n",
      "9S AC AD AH AS\n",
      "JD JH JC JS 2H\n",
      "QS QH 8C QC QD\n",
      "TS TH TC 2S TD\n",
      "2D 6C 6D 6H 6S\n",
      "2S 2D 2C 2H KH\n",
      "TS TH TC TD 4D\n",
      "JD JH JC TD JS\n",
      "QS QH TD QC QD\n",
      "5D AC AD AH AS\n",
      "TS TH TC 2D TD\n",
      "JC 6C 6D 6H 6S\n",
      "7C 2S 2D 2C 2H\n",
      "AC AD AH AS 2C\n",
      "AC AD AH AS 2H\n",
      "JC KC KD KH KS\n",
      "TS TH TC TD KS\n",
      "TS TH TC TD KC\n",
      "TS TH TC TD KD\n",
      "5S TS 5H 5D 5C\n",
      "3S JD 3H 3C 3D\n",
      "3C 2S 2D 2C 2H\n",
      "JS 6C 6D 6H 6S\n",
      "8H 8C 8D QC 8S\n",
      "9C 4S 4H 4D 4C\n",
      "JD JH JC JS 6H\n",
      "JD JH JC JS 6D\n",
      "JD JH JC JS 6C\n",
      "JD JH JC JS 6S\n",
      "JD JH JC 2D JS\n",
      "KC 6D KD KH KS\n",
      "9H 9C 9D 9S 4H\n",
      "TS 5H TH TC TD\n",
      "TH 6C 6D 6H 6S\n",
      "3D 2S 2D 2C 2H\n",
      "TH 8H 8C 8D 8S\n",
      "JH 4S 4H 4D 4C\n",
      "9C KC KD KH KS\n",
      "TS 7S TH TC TD\n",
      "JD JH JC 4D JS\n",
      "QS 2D QH QC QD\n",
      "5H 8H 8C 8D 8S\n",
      "TS TH TC TD JS\n",
      "7D 7C QS 7H 7S\n",
      "5S 5H 5D 5C AD\n",
      "5S 5H 5D 5C AC\n",
      "5S 5H 5D 5C AH\n",
      "5H 7D 7C 7H 7S\n",
      "AD KC KD KH KS\n",
      "TC 2S 2D 2C 2H\n",
      "5S 5H 3C 5D 5C\n",
      "AC AD AH AS JS\n",
      "5D 8H 8C 8D 8S\n",
      "TS TH TC QH TD\n",
      "5S KC KD KH KS\n",
      "JH 8H 8C 8D 8S\n",
      "2S 2D 2C TD 2H\n",
      "KC KD KH KS QD\n",
      "9S 2S 2D 2C 2H\n",
      "3S 3H 3C 5D 3D\n",
      "3D 9H 9C 9D 9S\n",
      "3D 6C 6D 6H 6S\n",
      "AC AD AH AS QC\n",
      "9H 9C 9D 9S 6D\n",
      "AC AD AH AS 6S\n",
      "KC KD KH KS 6S\n",
      "3D KC KD KH KS\n",
      "9S 8H 8C 8D 8S\n",
      "4S 4H 2C 4D 4C\n",
      "QS 9S QH QC QD\n",
      "QS QH KH QC QD\n",
      "TS 3D TH TC TD\n",
      "5H AC AD AH AS\n",
      "5S 5H 5D 5C 6C\n",
      "5S 5H 5D 5C 6D\n",
      "5S 5H 5D 5C 6H\n",
      "5S 5H 5D 5C 6S\n",
      "3S 3H 3C 3D 7D\n",
      "3S 3H 3C 3D 7C\n",
      "3S 3H 3C 3D 7H\n",
      "2S 2D 2C 2H KD\n",
      "JS KC KD KH KS\n",
      "TC 8H 8C 8D 8S\n",
      "TS JD TH TC TD\n",
      "7H 4S 4H 4D 4C\n",
      "AC AD AH AS QD\n",
      "5C 4S 4H 4D 4C\n",
      "9H 8H 8C 8D 8S\n",
      "5H KC KD KH KS\n",
      "TS TH TC TD 6S\n",
      "QS QH 8D QC QD\n",
      "5S 7D 7C 7H 7S\n",
      "TS 9H 9C 9D 9S\n",
      "5C 6C 6D 6H 6S\n",
      "AC AD AH AS 8S\n",
      "9H 9C 9D 9S 2H\n",
      "9H 9C 9D 9S 2C\n",
      "9H 9C 9D 9S 2D\n",
      "5D 2S 2D 2C 2H\n",
      "9S 4S 4H 4D 4C\n",
      "JD 9H 9C 9D 9S\n",
      "5S 5H 5D 5C 2H\n",
      "5S 5H 5D 5C 2C\n",
      "8H 8C KH 8D 8S\n",
      "2S 6C 6D 6H 6S\n",
      "7D 7C 7H 7S 9S\n",
      "7D 7C 9D 7H 7S\n",
      "TS 2S 2D 2C 2H\n",
      "AH 4S 4H 4D 4C\n",
      "9H 9C 9D 9S 2S\n",
      "AS KC KD KH KS\n",
      "5H 6C 6D 6H 6S\n",
      "AH 6C 6D 6H 6S\n",
      "AC AD AH AS TD\n",
      "5D 9H 9C 9D 9S\n",
      "TC 6C 6D 6H 6S\n",
      "5S JD 5H 5D 5C\n",
      "QS QH 6D QC QD\n",
      "JD JH 9C JC JS\n",
      "5C KC KD KH KS\n",
      "AD 8H 8C 8D 8S\n",
      "7D 7C 7H 7S 8H\n",
      "7D 7C 7H 7S 8D\n",
      "7D 7C 7H 7S 8S\n",
      "TS JH TH TC TD\n",
      "7C 4S 4H 4D 4C\n",
      "9H KC KD KH KS\n",
      "2S 2D 2C 2H KC\n",
      "QS 6C 6D 6H 6S\n",
      "AC AD AH AS 4C\n",
      "5C AC AD AH AS\n",
      "4S 4H 4D 4C 8C\n",
      "7S AC AD AH AS\n",
      "3C QS QH QC QD\n",
      "TS 6C 6D 6H 6S\n",
      "5S 5H 5D 5C KH\n",
      "QS QH 4C QC QD\n",
      "TD 8H 8C 8D 8S\n",
      "TS 8H 8C 8D 8S\n",
      "4S 4H 4D 4C 6C\n",
      "9H 9C 9D 7S 9S\n",
      "TH KC KD KH KS\n",
      "3H 2S 2D 2C 2H\n",
      "4D KC KD KH KS\n",
      "7D 7C 7H 7S TH\n",
      "7D 7C 7H 7S TD\n",
      "7D 7C 7H 7S TC\n",
      "3H 4S 4H 4D 4C\n",
      "7D 7C 9C 7H 7S\n",
      "7D 7C 7H 7S AS\n",
      "7D 7C 7H 7S AH\n",
      "3C 9H 9C 9D 9S\n",
      "5S 5H 5D 5C QD\n",
      "5S 5H 5D 5C QC\n",
      "5S 5H 5D 5C QH\n",
      "5S 5H 5D 5C QS\n",
      "5S 4S 4H 4D 4C\n",
      "TS QS TH TC TD\n",
      "AC AD AH 2D AS\n",
      "9H QS QH QC QD\n",
      "9H 9C 9D 9S TC\n",
      "9H 9C 9D 9S TD\n",
      "2S 8H 8C 8D 8S\n",
      "3C 4S 4H 4D 4C\n",
      "8H 8C 8D 6S 8S\n",
      "4D 6C 6D 6H 6S\n",
      "3S 3H 3C 3D 8H\n",
      "3S 3H 3C 3D 8C\n",
      "3S 3H 3C 3D 8D\n",
      "3S 3H 3C 3D 8S\n",
      "AC KC KD KH KS\n",
      "7D 4S 4H 4D 4C\n",
      "2S 2D 2C 2H 8C\n",
      "JD JH JC QH JS\n",
      "JD 3H JH JC JS\n",
      "TS TH TC TD 4C\n",
      "6C 6D 6H KS 6S\n",
      "QS AC AD AH AS\n",
      "JD JH JC JS KH\n",
      "JD JH 5C JC JS\n",
      "TS 7D TH TC TD\n",
      "3S 3H 3C 3D 9H\n",
      "3S 3H 3C 3D 9C\n",
      "3S 3H 3C 3D 9S\n",
      "9H 9C 9D 9S JC\n",
      "5S 3H 5H 5D 5C\n",
      "JD QS QH QC QD\n",
      "3S 3H 3C 3D TH\n",
      "3S 3H 3C 3D TD\n",
      "3S 3H 3C 3D TC\n",
      "3D 7D 7C 7H 7S\n",
      "4S AS 4H 4D 4C\n",
      "QS TC QH QC QD\n",
      "QS AC QH QC QD\n",
      "3S 3H 3C 3D AS\n",
      "3S 3H 3C 3D AC\n",
      "3S 3H 3C 3D AD\n",
      "3S 3H 3C 3D AH\n",
      "7D QS QH QC QD\n",
      "3S 9H 9C 9D 9S\n",
      "JD 7D 7C 7H 7S\n",
      "9C AC AD AH AS\n",
      "7D KC KD KH KS\n",
      "5H 4S 4H 4D 4C\n",
      "JD 4S 4H 4D 4C\n",
      "JD JH JC 2S JS\n",
      "JD JH JC 2C JS\n",
      "KC 8H KD KH KS\n",
      "2S 2D 2C 2H 8D\n",
      "7D AC AD AH AS\n",
      "6C 6D 6H 6S 8S\n",
      "2S 2D 2C 2H 8H\n",
      "2S 2D 2C 2H 8S\n",
      "JD JH 3C JC JS\n",
      "KC 8H 8C 8D 8S\n",
      "7H 8H 8C 8D 8S\n",
      "9H 4S 4H 4D 4C\n",
      "AC 8H 8C 8D 8S\n",
      "8H 8C 8D QD 8S\n",
      "AC AD AH AS 8C\n",
      "QS 4S 4H 4D 4C\n",
      "JD JH JC AD JS\n",
      "4H 6C 6D 6H 6S\n",
      "7D 7C 7H 7S 4H\n",
      "7D 7C 7H 7S 4D\n",
      "7D 7C 7H 7S 4C\n",
      "7D 7C 7H 7S AD\n",
      "2C 8H 8C 8D 8S\n",
      "5S 5H 5D 5C 7C\n",
      "5S 5H 5D 5C 7H\n",
      "5S 5H 5D 5C 7S\n",
      "JH 2S 2D 2C 2H\n",
      "9H 9C 9D 9S AS\n",
      "9H 9C 9D 9S AH\n",
      "9H 9C 9D 9S AC\n",
      "QS 8H 8C 8D 8S\n",
      "JH 7D 7C 7H 7S\n",
      "4S 4H 4D 2H 4C\n",
      "JD JH 7H JC JS\n",
      "TH 4S 4H 4D 4C\n",
      "JD JH JC JS 8D\n",
      "JD JH JC JS 8C\n",
      "JD JH JC JS 8H\n",
      "JD JH JC JS 8S\n",
      "9D 6C 6D 6H 6S\n",
      "TS 9H TH TC TD\n",
      "JC 2S 2D 2C 2H\n",
      "JS 8H 8C 8D 8S\n",
      "TC AC AD AH AS\n",
      "QH KC KD KH KS\n",
      "JD KC KD KH KS\n",
      "5S 5H 5D 5C KD\n",
      "7D 7C 7H 7S JS\n",
      "7D 7C 7H 7S JC\n",
      "9C 8H 8C 8D 8S\n",
      "5S 5H 5D 5C 7D\n",
      "3C 7D 7C 7H 7S\n",
      "TS TH TC TD KH\n",
      "9H 9C 9D 9S QH\n",
      "5S 5H 5D 5C 3D\n",
      "9H 9C 9D 9S KD\n",
      "3S 3H 3C 3D 4H\n",
      "3S 3H 3C 3D 4D\n",
      "3S 3H 3C 3D 4C\n",
      "3S 3H 3C 3D 4S\n",
      "JD JH 5H JC JS\n",
      "4S 4H 4D 4C KC\n",
      "4S 4H 4D 4C KD\n",
      "9S KC KD KH KS\n",
      "TH 2S 2D 2C 2H\n",
      "4S 8H 8C 8D 8S\n",
      "9H 9C 9D 9S AD\n",
      "7D 7C 7H 7S KS\n",
      "7D 7C 7H 7S KC\n",
      "QS QH KD QC QD\n",
      "9D QS QH QC QD\n",
      "JD 6C 6D 6H 6S\n",
      "5C 9H 9C 9D 9S\n",
      "JD JH 5D JC JS\n",
      "2S 2D 2C 2H KS\n",
      "4C KC KD KH KS\n",
      "3S TS 3H 3C 3D\n",
      "4C 8H 8C 8D 8S\n",
      "5S 5H 5D 5C AS\n",
      "7D 7C 7H 7S QC\n",
      "7D 7C 7H 7S QD\n",
      "JC 4S 4H 4D 4C\n",
      "TS TH TC TD 2H\n",
      "2S AH 2D 2C 2H\n",
      "7C 8H 8C 8D 8S\n",
      "TD KC KD KH KS\n",
      "TS TH TC TD 8D\n",
      "JH QS QH QC QD\n",
      "3S 3H 3C 3D JS\n",
      "3S 3H 3C 3D JC\n",
      "KC KD KH KS QC\n",
      "KC KD KH KS 8S\n",
      "AC AD AH 4S AS\n",
      "JH 9H 9C 9D 9S\n",
      "TS 7C TH TC TD\n",
      "AC AD AH AS 4H\n",
      "5D 6C 6D 6H 6S\n",
      "QS QH KC QC QD\n",
      "TD 6C 6D 6H 6S\n",
      "9D 8H 8C 8D 8S\n",
      "TS 7D 7C 7H 7S\n",
      "6C 6D 6H 6S QD\n",
      "TS 7H TH TC TD\n",
      "JC 8H 8C 8D 8S\n",
      "3C KC KD KH KS\n",
      "QS AH QH QC QD\n",
      "2S 2D AS 2C 2H\n",
      "3S 7D 7C 7H 7S\n",
      "TS TH TC TD 6H\n",
      "TS TH TC TD 6C\n",
      "TS TH TC TD 6D\n",
      "8H 8C 8D KS 8S\n",
      "7C AC AD AH AS\n",
      "3S 3H 3C 3D QC\n",
      "3S 3H 3C 3D QD\n",
      "3S 3H 3C 3D QH\n",
      "3S 3H 3C 3D QS\n",
      "8H 6C 8C 8D 8S\n",
      "9D 4S 4H 4D 4C\n",
      "TS QS QH QC QD\n",
      "2S KC KD KH KS\n",
      "2D KC KD KH KS\n",
      "5S 5H 5D 5C KC\n",
      "5S 5H 5D 5C KS\n",
      "QS QH 4D QC QD\n",
      "QH 6C 6D 6H 6S\n",
      "QS JC QH QC QD\n",
      "9H 9C 9D 9S JS\n",
      "8H 6D 8C 8D 8S\n",
      "6C 6D 6H KH 6S\n",
      "3C 6C 6D 6H 6S\n",
      "7D 2S 2D 2C 2H\n",
      "9H 7D 9C 9D 9S\n",
      "TS 9C TH TC TD\n",
      "JD JH JC JS 4C\n",
      "JD 8H 8C 8D 8S\n",
      "TS 5C TH TC TD\n",
      "5S 5H 5D 5C 2D\n",
      "5S 5H 5D 5C 2S\n",
      "TS TH TC AS TD\n",
      "5H 9H 9C 9D 9S\n",
      "9C 2S 2D 2C 2H\n",
      "AD 4S 4H 4D 4C\n",
      "7S KC KD KH KS\n",
      "3D 4S 4H 4D 4C\n",
      "7H 2S 2D 2C 2H\n",
      "QS QH JS QC QD\n",
      "3S QS QH QC QD\n",
      "3H 9H 9C 9D 9S\n",
      "7C KC KD KH KS\n",
      "6C 6D 6H 8C 6S\n",
      "3H KC KD KH KS\n",
      "JD JH JC AC JS\n",
      "7D 7C 7H 7S 8C\n",
      "7S 2S 2D 2C 2H\n",
      "5S 6C 6D 6H 6S\n",
      "7D 6C 6D 6H 6S\n",
      "9H 9C 9D 9S QD\n",
      "9H 9C 9D 9S QC\n",
      "JC AC AD AH AS\n"
     ]
    }
   ],
   "source": [
    "for hand in Hands:\n",
    "    for rank in ranks:\n",
    "        if hand.count(rank) == 4:\n",
    "            print hand"
   ]
  },
  {
   "cell_type": "code",
   "execution_count": null,
   "metadata": {
    "collapsed": true
   },
   "outputs": [],
   "source": []
  }
 ],
 "metadata": {
  "kernelspec": {
   "display_name": "Python 2",
   "language": "python",
   "name": "python2"
  },
  "language_info": {
   "codemirror_mode": {
    "name": "ipython",
    "version": 2
   },
   "file_extension": ".py",
   "mimetype": "text/x-python",
   "name": "python",
   "nbconvert_exporter": "python",
   "pygments_lexer": "ipython2",
   "version": "2.7.11"
  }
 },
 "nbformat": 4,
 "nbformat_minor": 0
}
